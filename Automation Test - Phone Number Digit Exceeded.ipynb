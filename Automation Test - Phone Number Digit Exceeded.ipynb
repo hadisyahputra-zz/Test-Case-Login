{
 "cells": [
  {
   "cell_type": "code",
   "execution_count": 31,
   "metadata": {},
   "outputs": [],
   "source": [
    "import os\n",
    "import sys\n",
    "sys.path.append('C:\\Python27\\Lib\\site-packages')\n",
    "\n",
    "from selenium import webdriver\n",
    "from selenium_move_cursor.MouseActions import move_to_element_chrome"
   ]
  },
  {
   "cell_type": "code",
   "execution_count": 32,
   "metadata": {},
   "outputs": [],
   "source": [
    "driver = webdriver.Chrome('C:/ProgramData/chocolatey/lib/chromedriver/tools/chromedriver.exe')\n",
    "driver.get('https://pr.kargo.tech/shipper/welcome/login')"
   ]
  },
  {
   "cell_type": "code",
   "execution_count": 33,
   "metadata": {},
   "outputs": [],
   "source": [
    "driver.find_element_by_id('render_phone_number-field').send_keys('877883941857384738748348')"
   ]
  },
  {
   "cell_type": "code",
   "execution_count": 34,
   "metadata": {},
   "outputs": [],
   "source": [
    "element = driver.find_element_by_id('render_textfield')"
   ]
  },
  {
   "cell_type": "code",
   "execution_count": 36,
   "metadata": {},
   "outputs": [],
   "source": [
    "driver.find_element_by_id(\"render_textfield\").click()"
   ]
  },
  {
   "cell_type": "code",
   "execution_count": 46,
   "metadata": {},
   "outputs": [
    {
     "name": "stdout",
     "output_type": "stream",
     "text": [
      "Berhasil tes memasukkan nomor hape terlalu panjang\n"
     ]
    }
   ],
   "source": [
    "if driver.find_elements_by_xpath(\"//*[contains(text(), 'Format nomor telepon tidak valid')]\")[0].text == 'Format nomor telepon tidak valid':\n",
    "    print \"Berhasil tes memasukkan nomor hape terlalu panjang\"\n",
    "else:\n",
    "    print \"Gagal tes memasukkan nomor hape terlalu panjang\""
   ]
  },
  {
   "cell_type": "code",
   "execution_count": null,
   "metadata": {},
   "outputs": [],
   "source": []
  }
 ],
 "metadata": {
  "kernelspec": {
   "display_name": "Python 2",
   "language": "python",
   "name": "python2"
  },
  "language_info": {
   "codemirror_mode": {
    "name": "ipython",
    "version": 2
   },
   "file_extension": ".py",
   "mimetype": "text/x-python",
   "name": "python",
   "nbconvert_exporter": "python",
   "pygments_lexer": "ipython2",
   "version": "2.7.15"
  }
 },
 "nbformat": 4,
 "nbformat_minor": 2
}
